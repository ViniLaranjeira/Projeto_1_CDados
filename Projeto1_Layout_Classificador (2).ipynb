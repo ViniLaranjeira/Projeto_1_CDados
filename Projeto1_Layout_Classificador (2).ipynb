{
 "cells": [
  {
   "cell_type": "markdown",
   "metadata": {},
   "source": [
    "# Projeto 1 - Ciência dos Dados"
   ]
  },
  {
   "cell_type": "markdown",
   "metadata": {},
   "source": [
    "Nome: _____\n",
    "\n",
    "Nome: _____"
   ]
  },
  {
   "cell_type": "markdown",
   "metadata": {},
   "source": [
    "Atenção: Serão permitidos grupos de três pessoas, mas com uma rubrica mais exigente. Grupos deste tamanho precisarão fazer um questionário de avaliação de trabalho em equipe"
   ]
  },
  {
   "cell_type": "markdown",
   "metadata": {},
   "source": [
    "___\n",
    "Carregando algumas bibliotecas:"
   ]
  },
  {
   "cell_type": "code",
   "execution_count": 1,
   "metadata": {},
   "outputs": [],
   "source": [
    "%matplotlib inline\n",
    "import pandas as pd\n",
    "import matplotlib.pyplot as plt\n",
    "import numpy as np\n",
    "import os"
   ]
  },
  {
   "cell_type": "code",
   "execution_count": 2,
   "metadata": {
    "scrolled": false
   },
   "outputs": [
    {
     "name": "stdout",
     "output_type": "stream",
     "text": [
      "Esperamos trabalhar no diretório\n",
      "C:\\Users\\Francisco\\Downloads\n"
     ]
    }
   ],
   "source": [
    "print('Esperamos trabalhar no diretório')\n",
    "print(os.getcwd())"
   ]
  },
  {
   "cell_type": "markdown",
   "metadata": {},
   "source": [
    "Carregando a base de dados com os tweets classificados como relevantes e não relevantes:"
   ]
  },
  {
   "cell_type": "code",
   "execution_count": 3,
   "metadata": {},
   "outputs": [],
   "source": [
    "filename = 'guarana.xlsx'"
   ]
  },
  {
   "cell_type": "code",
   "execution_count": 4,
   "metadata": {},
   "outputs": [
    {
     "data": {
      "text/html": [
       "<div>\n",
       "<style scoped>\n",
       "    .dataframe tbody tr th:only-of-type {\n",
       "        vertical-align: middle;\n",
       "    }\n",
       "\n",
       "    .dataframe tbody tr th {\n",
       "        vertical-align: top;\n",
       "    }\n",
       "\n",
       "    .dataframe thead th {\n",
       "        text-align: right;\n",
       "    }\n",
       "</style>\n",
       "<table border=\"1\" class=\"dataframe\">\n",
       "  <thead>\n",
       "    <tr style=\"text-align: right;\">\n",
       "      <th></th>\n",
       "      <th>Treinamento</th>\n",
       "      <th>Relevancia</th>\n",
       "    </tr>\n",
       "  </thead>\n",
       "  <tbody>\n",
       "    <tr>\n",
       "      <th>0</th>\n",
       "      <td>@guarana_1 os cara estão exagerando também... ...</td>\n",
       "      <td>0</td>\n",
       "    </tr>\n",
       "    <tr>\n",
       "      <th>1</th>\n",
       "      <td>@ar7hursimoes @saamanteiga @guarana eu entrei ...</td>\n",
       "      <td>0</td>\n",
       "    </tr>\n",
       "    <tr>\n",
       "      <th>2</th>\n",
       "      <td>vitor sendo estagiário da conta do twitter do ...</td>\n",
       "      <td>0</td>\n",
       "    </tr>\n",
       "    <tr>\n",
       "      <th>3</th>\n",
       "      <td>eu tava fazendo a provinha do game pro estágio...</td>\n",
       "      <td>0</td>\n",
       "    </tr>\n",
       "    <tr>\n",
       "      <th>4</th>\n",
       "      <td>@guarana pesado https://t.co/9ygx2q2cba</td>\n",
       "      <td>0</td>\n",
       "    </tr>\n",
       "  </tbody>\n",
       "</table>\n",
       "</div>"
      ],
      "text/plain": [
       "                                         Treinamento  Relevancia\n",
       "0  @guarana_1 os cara estão exagerando também... ...           0\n",
       "1  @ar7hursimoes @saamanteiga @guarana eu entrei ...           0\n",
       "2  vitor sendo estagiário da conta do twitter do ...           0\n",
       "3  eu tava fazendo a provinha do game pro estágio...           0\n",
       "4            @guarana pesado https://t.co/9ygx2q2cba           0"
      ]
     },
     "execution_count": 4,
     "metadata": {},
     "output_type": "execute_result"
    }
   ],
   "source": [
    "train = pd.read_excel(filename)\n",
    "train.head(5)"
   ]
  },
  {
   "cell_type": "code",
   "execution_count": 5,
   "metadata": {},
   "outputs": [
    {
     "data": {
      "text/html": [
       "<div>\n",
       "<style scoped>\n",
       "    .dataframe tbody tr th:only-of-type {\n",
       "        vertical-align: middle;\n",
       "    }\n",
       "\n",
       "    .dataframe tbody tr th {\n",
       "        vertical-align: top;\n",
       "    }\n",
       "\n",
       "    .dataframe thead th {\n",
       "        text-align: right;\n",
       "    }\n",
       "</style>\n",
       "<table border=\"1\" class=\"dataframe\">\n",
       "  <thead>\n",
       "    <tr style=\"text-align: right;\">\n",
       "      <th></th>\n",
       "      <th>Teste</th>\n",
       "      <th>Relevancia</th>\n",
       "    </tr>\n",
       "  </thead>\n",
       "  <tbody>\n",
       "    <tr>\n",
       "      <th>0</th>\n",
       "      <td>o cara mó lerdão quer falar de mulher kkkkkkkk...</td>\n",
       "      <td>0</td>\n",
       "    </tr>\n",
       "    <tr>\n",
       "      <th>1</th>\n",
       "      <td>@prltsantiago maracujá, guaraná e melancia \\n\\...</td>\n",
       "      <td>1</td>\n",
       "    </tr>\n",
       "    <tr>\n",
       "      <th>2</th>\n",
       "      <td>galera qual a bebida fav de vocês?\\n\\nme: guar...</td>\n",
       "      <td>0</td>\n",
       "    </tr>\n",
       "    <tr>\n",
       "      <th>3</th>\n",
       "      <td>@reikyzin @guarana falou pra colocar sua idade...</td>\n",
       "      <td>0</td>\n",
       "    </tr>\n",
       "    <tr>\n",
       "      <th>4</th>\n",
       "      <td>“ah pq erros te fortalecem”\\na pessoa que inve...</td>\n",
       "      <td>0</td>\n",
       "    </tr>\n",
       "  </tbody>\n",
       "</table>\n",
       "</div>"
      ],
      "text/plain": [
       "                                               Teste  Relevancia\n",
       "0  o cara mó lerdão quer falar de mulher kkkkkkkk...           0\n",
       "1  @prltsantiago maracujá, guaraná e melancia \\n\\...           1\n",
       "2  galera qual a bebida fav de vocês?\\n\\nme: guar...           0\n",
       "3  @reikyzin @guarana falou pra colocar sua idade...           0\n",
       "4  “ah pq erros te fortalecem”\\na pessoa que inve...           0"
      ]
     },
     "execution_count": 5,
     "metadata": {},
     "output_type": "execute_result"
    }
   ],
   "source": [
    "test = pd.read_excel(filename, sheet_name = 'Teste')\n",
    "test.head(5)\n"
   ]
  },
  {
   "cell_type": "code",
   "execution_count": 51,
   "metadata": {},
   "outputs": [],
   "source": [
    "#Limpa Tweets\n",
    "for i in test[\"Teste\"]:\n",
    "    i.replace(',','')\n",
    "    i.replace('/n', '')\n",
    "    i.replace('\"\"', \"\")\n",
    "    i.replace(\"'\", \"\")\n",
    "    i.replace(':', '')\n",
    "    i.replace('@', '')\n",
    "for i in train[\"Treinamento\"]:\n",
    "    i.replace(\"@\",'')\n",
    "    i.replace(',','')\n",
    "    i.replace('/n', '')\n",
    "    i.replace('\"\"', \"\")\n",
    "    i.replace(\"'\", \"\")\n",
    "    i.replace(':', '')"
   ]
  },
  {
   "cell_type": "markdown",
   "metadata": {},
   "source": [
    "___\n",
    "## Classificador automático de sentimento\n"
   ]
  },
  {
   "cell_type": "markdown",
   "metadata": {},
   "source": [
    "Faça aqui uma descrição do seu produto e o que considerou como relevante ou não relevante na classificação dos tweets.\n",
    "\n",
    "ESCREVA AQUI..."
   ]
  },
  {
   "cell_type": "code",
   "execution_count": 52,
   "metadata": {},
   "outputs": [
    {
     "name": "stdout",
     "output_type": "stream",
     "text": [
      "consideramos os tweets relevantes aqueles cujo conteudo elogiavam ou mostravam gostar de guarana.E irrelevantes os tweets que nao gostam de guarana.E tambem classificamos como irrelevantes=0 e relevantes=1\n"
     ]
    }
   ],
   "source": [
    "print(\"consideramos os tweets relevantes aqueles cujo conteudo elogiavam ou mostravam gostar de guarana.E irrelevantes os tweets que nao gostam de guarana.E tambem classificamos como irrelevantes=0 e relevantes=1\")"
   ]
  },
  {
   "cell_type": "markdown",
   "metadata": {},
   "source": [
    "___\n",
    "### Montando um Classificador Naive-Bayes\n",
    "\n",
    "Considerando apenas as mensagens da planilha Treinamento, ensine  seu classificador."
   ]
  },
  {
   "cell_type": "code",
   "execution_count": 53,
   "metadata": {},
   "outputs": [],
   "source": [
    "Relevante = train[\"Relevancia\"] == 1\n",
    "Irrelevante = train[\"Relevancia\"] == 0\n",
    "\n",
    "teste_lista=[]\n",
    "for i in test[\"Teste\"]:  \n",
    "    s = i.split()\n",
    "    for j in s:\n",
    "        teste_lista.append(j)\n",
    "\n",
    "        \n",
    "Relevante=train.loc[train['Relevancia'] == 1,:]\n",
    "lista_Relevantes = []\n",
    "for a in Relevante['Treinamento']:\n",
    "    a = a.lower()\n",
    "    b = a.split()\n",
    "    for c in b:\n",
    "        lista_Relevantes.append(c)\n",
    "tabela_Relevantes_treinamento = pd.Series(lista_Relevantes).value_counts()\n",
    "\n",
    "\n",
    "Irrelevante=train.loc[train['Relevancia'] == 0,:]\n",
    "lista_Irrelevantes = []\n",
    "for a in Irrelevante['Treinamento']:\n",
    "    a = a.lower()\n",
    "    b = a.split()\n",
    "    for c in b:\n",
    "        lista_Irrelevantes.append(c)\n",
    "tabela_irrelevantes_treinamento = pd.Series(lista_Irrelevantes).value_counts()\n"
   ]
  },
  {
   "cell_type": "code",
   "execution_count": 54,
   "metadata": {},
   "outputs": [],
   "source": [
    "lista_geral = []\n",
    "lista_geral =(lista_Irrelevantes) + (lista_Relevantes)\n",
    "\n",
    "def Sem_repeticao(lista):\n",
    "    Lista_nova = []\n",
    "    for i in lista:\n",
    "        if i not in Lista_nova:\n",
    "            Lista_nova.append(i)\n",
    "    return Lista_nova\n",
    "Lista_nova=Sem_repeticao(lista_geral)\n",
    "\n",
    "\n",
    "def relevantes_probabilidader(frase):\n",
    "    serie_Relevantes_treinamento = pd.Series(lista_Relevantes)\n",
    "    lista = []  \n",
    "    for i in test['Teste']:\n",
    "        s = 1\n",
    "        i = i.lower()\n",
    "        a = i.split()\n",
    "        for c in a:\n",
    "            if c in tabela_Relevantes_treinamento:\n",
    "                m = tabela_Relevantes_treinamento[c]\n",
    "            else:\n",
    "                m = 0\n",
    "            probabilidade = (m+1)/(len(serie_Relevantes_treinamento) + len(Lista_nova))   #suavização de Laplace   \n",
    "            s *= probabilidade\n",
    "        lista.append(s)\n",
    "    return lista\n"
   ]
  },
  {
   "cell_type": "code",
   "execution_count": 55,
   "metadata": {},
   "outputs": [],
   "source": [
    "lista_r = []\n",
    "for i in relevantes_probabilidader(test['Teste']):\n",
    "    if i not in lista_r:\n",
    "        lista_r.append(i)\n",
    "len(lista_r)\n",
    "\n",
    "\n",
    "def Prob_NRr(Palavra):\n",
    "    serie_irrelevantes_treinamento = pd.Series(lista_Irrelevantes)\n",
    "    lista = []  \n",
    "    for i in test['Teste']:\n",
    "        s = 1\n",
    "        i = i.lower()\n",
    "        a = i.split()\n",
    "        for c in a:\n",
    "            if c in tabela_irrelevantes_treinamento:\n",
    "                m = tabela_irrelevantes_treinamento[c]\n",
    "            else:\n",
    "                m = 0\n",
    "            probabilidade = (m+1)/(len(serie_irrelevantes_treinamento) + len(Lista_nova))      \n",
    "            s *= probabilidade\n",
    "        lista.append(s)\n",
    "    return lista\n",
    "len(Prob_NRr(test['Teste']))\n",
    "\n",
    "\n",
    "lista_ir = []\n",
    "for i in Prob_NRr(test['Teste']):\n",
    "    if i not in lista_ir:\n",
    "        lista_ir.append(i)\n",
    "\n"
   ]
  },
  {
   "cell_type": "code",
   "execution_count": 56,
   "metadata": {},
   "outputs": [
    {
     "data": {
      "text/plain": [
       "['0',\n",
       " '1',\n",
       " '1',\n",
       " '0',\n",
       " '0',\n",
       " '1',\n",
       " '0',\n",
       " '0',\n",
       " '1',\n",
       " '1',\n",
       " '0',\n",
       " '0',\n",
       " '1',\n",
       " '1',\n",
       " '1',\n",
       " '0',\n",
       " '0',\n",
       " '1',\n",
       " '0',\n",
       " '0',\n",
       " '0',\n",
       " '0',\n",
       " '1',\n",
       " '0',\n",
       " '1',\n",
       " '1',\n",
       " '1',\n",
       " '0',\n",
       " '1',\n",
       " '0',\n",
       " '1',\n",
       " '0',\n",
       " '1',\n",
       " '0',\n",
       " '1',\n",
       " '0',\n",
       " '0',\n",
       " '0',\n",
       " '0',\n",
       " '0',\n",
       " '0',\n",
       " '1',\n",
       " '1',\n",
       " '0',\n",
       " '0',\n",
       " '1',\n",
       " '0',\n",
       " '0',\n",
       " '0',\n",
       " '0',\n",
       " '0',\n",
       " '1',\n",
       " '1',\n",
       " '0',\n",
       " '0',\n",
       " '0',\n",
       " '1',\n",
       " '0',\n",
       " '0',\n",
       " '0',\n",
       " '1',\n",
       " '0',\n",
       " '1',\n",
       " '0',\n",
       " '0',\n",
       " '1',\n",
       " '0',\n",
       " '0',\n",
       " '1',\n",
       " '1',\n",
       " '1',\n",
       " '1',\n",
       " '0',\n",
       " '1',\n",
       " '1',\n",
       " '0',\n",
       " '0',\n",
       " '0',\n",
       " '1',\n",
       " '1',\n",
       " '1',\n",
       " '1',\n",
       " '0',\n",
       " '1',\n",
       " '0',\n",
       " '1',\n",
       " '1',\n",
       " '0',\n",
       " '0',\n",
       " '0',\n",
       " '1',\n",
       " '1',\n",
       " '0',\n",
       " '0',\n",
       " '0',\n",
       " '1',\n",
       " '1',\n",
       " '0',\n",
       " '1',\n",
       " '1',\n",
       " '0',\n",
       " '1',\n",
       " '0',\n",
       " '0',\n",
       " '0',\n",
       " '0',\n",
       " '0',\n",
       " '0',\n",
       " '1',\n",
       " '0',\n",
       " '0',\n",
       " '0',\n",
       " '0',\n",
       " '1',\n",
       " '1',\n",
       " '0',\n",
       " '0',\n",
       " '0',\n",
       " '0',\n",
       " '0',\n",
       " '0',\n",
       " '1',\n",
       " '1',\n",
       " '0',\n",
       " '1',\n",
       " '0',\n",
       " '0',\n",
       " '1',\n",
       " '1',\n",
       " '0',\n",
       " '0',\n",
       " '1',\n",
       " '0',\n",
       " '1',\n",
       " '0',\n",
       " '1',\n",
       " '1',\n",
       " '1',\n",
       " '0',\n",
       " '0',\n",
       " '0',\n",
       " '0',\n",
       " '0',\n",
       " '1',\n",
       " '1',\n",
       " '0',\n",
       " '1',\n",
       " '0',\n",
       " '0',\n",
       " '0',\n",
       " '0',\n",
       " '0',\n",
       " '1',\n",
       " '0',\n",
       " '0',\n",
       " '0',\n",
       " '1',\n",
       " '0',\n",
       " '0',\n",
       " '0',\n",
       " '0',\n",
       " '0',\n",
       " '1',\n",
       " '1',\n",
       " '0',\n",
       " '0',\n",
       " '0',\n",
       " '1',\n",
       " '1',\n",
       " '0',\n",
       " '1',\n",
       " '1',\n",
       " '1',\n",
       " '0',\n",
       " '0',\n",
       " '1',\n",
       " '0',\n",
       " '0',\n",
       " '0',\n",
       " '0',\n",
       " '1',\n",
       " '0',\n",
       " '1',\n",
       " '1',\n",
       " '1',\n",
       " '0',\n",
       " '1',\n",
       " '0',\n",
       " '1',\n",
       " '1',\n",
       " '1',\n",
       " '0',\n",
       " '0',\n",
       " '1',\n",
       " '1',\n",
       " '0',\n",
       " '1',\n",
       " '0',\n",
       " '0',\n",
       " '1']"
      ]
     },
     "execution_count": 56,
     "metadata": {},
     "output_type": "execute_result"
    }
   ],
   "source": [
    "def Classifica(l):\n",
    "    Classificador = []\n",
    "    R = []\n",
    "    Ir = []\n",
    "    r = relevantes_probabilidader(l)\n",
    "    I = Prob_NRr(l)\n",
    "    for i in range(len(r)):\n",
    "        Relevantes_valor = r[i]*relevantes_probabilidade\n",
    "        R.append(Relevantes_valor)\n",
    "        Irrelevantes_valor = I[i]*Irrelevantes_probabilidade\n",
    "        Ir.append(Irrelevantes_valor)\n",
    "    for j in range(len(l)):\n",
    "        if R[j] > Ir[j]:\n",
    "            Classificador.append('1')\n",
    "        else:\n",
    "            Classificador.append('0')\n",
    "    return Classificador\n",
    "Classifica(test['Teste'])"
   ]
  },
  {
   "cell_type": "markdown",
   "metadata": {},
   "source": [
    "___\n",
    "### Verificando a performance do Classificador\n",
    "\n",
    "Agora você deve testar o seu classificador com a base de Testes."
   ]
  },
  {
   "cell_type": "code",
   "execution_count": 57,
   "metadata": {},
   "outputs": [
    {
     "data": {
      "text/html": [
       "<div>\n",
       "<style scoped>\n",
       "    .dataframe tbody tr th:only-of-type {\n",
       "        vertical-align: middle;\n",
       "    }\n",
       "\n",
       "    .dataframe tbody tr th {\n",
       "        vertical-align: top;\n",
       "    }\n",
       "\n",
       "    .dataframe thead th {\n",
       "        text-align: right;\n",
       "    }\n",
       "</style>\n",
       "<table border=\"1\" class=\"dataframe\">\n",
       "  <thead>\n",
       "    <tr style=\"text-align: right;\">\n",
       "      <th>NB</th>\n",
       "      <th>0</th>\n",
       "      <th>1</th>\n",
       "    </tr>\n",
       "    <tr>\n",
       "      <th>Relevancia</th>\n",
       "      <th></th>\n",
       "      <th></th>\n",
       "    </tr>\n",
       "  </thead>\n",
       "  <tbody>\n",
       "    <tr>\n",
       "      <th>No</th>\n",
       "      <td>92</td>\n",
       "      <td>40</td>\n",
       "    </tr>\n",
       "    <tr>\n",
       "      <th>Yes</th>\n",
       "      <td>24</td>\n",
       "      <td>44</td>\n",
       "    </tr>\n",
       "  </tbody>\n",
       "</table>\n",
       "</div>"
      ],
      "text/plain": [
       "NB           0   1\n",
       "Relevancia        \n",
       "No          92  40\n",
       "Yes         24  44"
      ]
     },
     "execution_count": 57,
     "metadata": {},
     "output_type": "execute_result"
    }
   ],
   "source": [
    "test['NB'] = Classifica(test['Teste'])\n",
    "pd.crosstab(test['Relevancia'], test['NB'], normalize = False)\n",
    "\n"
   ]
  },
  {
   "cell_type": "code",
   "execution_count": 58,
   "metadata": {},
   "outputs": [],
   "source": [
    "test['Relevancia'] = test['Relevancia'].astype('category')\n",
    "test['Relevancia'].cat.categories = ['No', 'Yes']\n",
    "test['Relevancia'] = pd.Categorical(test['Relevancia'], categories=['No', 'Yes'], ordered=False)\n",
    "\n",
    "test['NB'] = test['NB'].astype('category')\n",
    "test['NB'].cat.categories = ['No', 'Yes']\n",
    "test['NB'] = pd.Categorical(test['NB'], categories=['No', 'Yes'], ordered=False)"
   ]
  },
  {
   "cell_type": "code",
   "execution_count": 59,
   "metadata": {},
   "outputs": [
    {
     "data": {
      "text/plain": [
       "92"
      ]
     },
     "execution_count": 59,
     "metadata": {},
     "output_type": "execute_result"
    }
   ],
   "source": [
    "verdadeiros_irrelevantes = 0\n",
    "for i in range(len(test['Relevancia'])):\n",
    "    if test['Relevancia'][i] == 'No' and test['NB'][i] == 'No':\n",
    "        verdadeiros_irrelevantes += 1\n",
    "verdadeiros_irrelevantes\n"
   ]
  },
  {
   "cell_type": "code",
   "execution_count": 60,
   "metadata": {},
   "outputs": [
    {
     "data": {
      "text/plain": [
       "44"
      ]
     },
     "execution_count": 60,
     "metadata": {},
     "output_type": "execute_result"
    }
   ],
   "source": [
    "verdadeiros_relevantes = 0\n",
    "for i in range(len(test['Relevancia'])):\n",
    "    if test['Relevancia'][i] == 'Yes' and test['NB'][i] == 'Yes':\n",
    "        verdadeiros_relevantes += 1\n",
    "verdadeiros_relevantes"
   ]
  },
  {
   "cell_type": "code",
   "execution_count": 61,
   "metadata": {},
   "outputs": [
    {
     "data": {
      "text/plain": [
       "24"
      ]
     },
     "execution_count": 61,
     "metadata": {},
     "output_type": "execute_result"
    }
   ],
   "source": [
    "falsos_irrelevantes = 0\n",
    "for i in range(len(test['Relevancia'])):\n",
    "    if test['Relevancia'][i] == 'Yes' and test['NB'][i] == 'No':\n",
    "        falsos_irrelevantes += 1\n",
    "falsos_irrelevantes\n"
   ]
  },
  {
   "cell_type": "code",
   "execution_count": 62,
   "metadata": {},
   "outputs": [
    {
     "data": {
      "text/plain": [
       "40"
      ]
     },
     "execution_count": 62,
     "metadata": {},
     "output_type": "execute_result"
    }
   ],
   "source": [
    "falsos_relevantes = 0\n",
    "for i in range(len(test['Relevancia'])):\n",
    "    if test['Relevancia'][i] == 'No' and test['NB'][i] == 'Yes':\n",
    "        falsos_relevantes += 1\n",
    "falsos_relevantes"
   ]
  },
  {
   "cell_type": "code",
   "execution_count": 63,
   "metadata": {},
   "outputs": [
    {
     "name": "stdout",
     "output_type": "stream",
     "text": [
      "verdadeiros_irrelevantes: 0.46\n",
      "verdadeiros_relevantes: 0.22\n",
      "falsos_irrelevantes: 0.12\n",
      "falsos_relevantes: 0.2\n"
     ]
    }
   ],
   "source": [
    "print('verdadeiros_irrelevantes: {0}'.format(verdadeiros_irrelevantes/200))\n",
    "print('verdadeiros_relevantes: {0}'.format(verdadeiros_relevantes/200))\n",
    "print('falsos_irrelevantes: {0}'.format(falsos_irrelevantes/200))\n",
    "print('falsos_relevantes: {0}'.format(falsos_relevantes/200))"
   ]
  },
  {
   "cell_type": "markdown",
   "metadata": {},
   "source": [
    "___\n",
    "### Concluindo"
   ]
  },
  {
   "cell_type": "code",
   "execution_count": 64,
   "metadata": {},
   "outputs": [
    {
     "name": "stdout",
     "output_type": "stream",
     "text": [
      "verdadeiros_irrelevantes: 0.46\n",
      "verdadeiros_relevantes: 0.22\n",
      "falsos_irrelevantes: 0.12\n",
      "falsos_relevantes: 0.2\n"
     ]
    }
   ],
   "source": [
    "print('verdadeiros_irrelevantes: {0}'.format(verdadeiros_irrelevantes/200))\n",
    "print('verdadeiros_relevantes: {0}'.format(verdadeiros_relevantes/200))\n",
    "print('falsos_irrelevantes: {0}'.format(falsos_irrelevantes/200))\n",
    "print('falsos_relevantes: {0}'.format(falsos_relevantes/200))"
   ]
  },
  {
   "cell_type": "code",
   "execution_count": 70,
   "metadata": {},
   "outputs": [
    {
     "data": {
      "text/plain": [
       "(0.2, 0.12, 0.22, 0.46, 1.0)"
      ]
     },
     "execution_count": 70,
     "metadata": {},
     "output_type": "execute_result"
    }
   ],
   "source": [
    "#verificando\n",
    "falso_relevante=40/200\n",
    "falso_irrelevante=24/200\n",
    "verdadeiro_relevante=44/200\n",
    "verdadeiro_irrelevante=92/200\n",
    "soma_tudo=(falso_relevante+falso_irrelevante+verdadeiro_relevante+verdadeiro_irrelevante)\n",
    "falso_relevante,falso_irrelevante,verdadeiro_relevante,verdadeiro_irrelevante,soma_tudo"
   ]
  },
  {
   "cell_type": "code",
   "execution_count": null,
   "metadata": {},
   "outputs": [],
   "source": []
  },
  {
   "cell_type": "markdown",
   "metadata": {},
   "source": [
    "___\n",
    "### Qualidade do Classificador a partir de novas separações dos tweets entre Treinamento e Teste\n",
    "\n",
    "Caso for fazer esse item do Projeto"
   ]
  },
  {
   "cell_type": "code",
   "execution_count": null,
   "metadata": {},
   "outputs": [],
   "source": []
  },
  {
   "cell_type": "code",
   "execution_count": null,
   "metadata": {},
   "outputs": [],
   "source": []
  },
  {
   "cell_type": "code",
   "execution_count": null,
   "metadata": {},
   "outputs": [],
   "source": []
  },
  {
   "cell_type": "markdown",
   "metadata": {},
   "source": [
    "___\n",
    "## Aperfeiçoamento:\n",
    "\n",
    "Trabalhos que conseguirem pelo menos conceito B vão evoluir em conceito dependendo da quantidade de itens avançados:\n",
    "\n",
    "* IMPLEMENTOU outras limpezas e transformações que não afetem a qualidade da informação contida nos tweets. Ex: stemming, lemmatization, stopwords\n",
    "* CORRIGIU separação de espaços entre palavras e emojis ou entre emojis e emojis\n",
    "* CRIOU categorias intermediárias de relevância baseadas na probabilidade: ex.: muito relevante, relevante, neutro, irrelevante, muito irrelevante. Pelo menos quatro categorias, com adição de mais tweets na base, conforme enunciado. (OBRIGATÓRIO PARA TRIOS, sem contar como item avançado)\n",
    "* EXPLICOU porquê não pode usar o próprio classificador para gerar mais amostras de treinamento\n",
    "* PROPÔS diferentes cenários para Naïve Bayes fora do contexto do projeto\n",
    "* SUGERIU e EXPLICOU melhorias reais com indicações concretas de como implementar (indicar como fazer e indicar material de pesquisa)\n",
    "* FEZ o item 6. Qualidade do Classificador a partir de novas separações dos tweets entre Treinamento e Teste descrito no enunciado do projeto (OBRIGATÓRIO para conceitos A ou A+)"
   ]
  },
  {
   "cell_type": "markdown",
   "metadata": {},
   "source": [
    "___\n",
    "## Referências"
   ]
  },
  {
   "cell_type": "markdown",
   "metadata": {},
   "source": [
    "[Naive Bayes and Text Classification](https://arxiv.org/pdf/1410.5329.pdf)  **Mais completo**\n",
    "\n",
    "[A practical explanation of a Naive Bayes Classifier](https://monkeylearn.com/blog/practical-explanation-naive-bayes-classifier/) **Mais simples**"
   ]
  },
  {
   "cell_type": "code",
   "execution_count": null,
   "metadata": {},
   "outputs": [],
   "source": []
  }
 ],
 "metadata": {
  "kernelspec": {
   "display_name": "Python 3",
   "language": "python",
   "name": "python3"
  },
  "language_info": {
   "codemirror_mode": {
    "name": "ipython",
    "version": 3
   },
   "file_extension": ".py",
   "mimetype": "text/x-python",
   "name": "python",
   "nbconvert_exporter": "python",
   "pygments_lexer": "ipython3",
   "version": "3.8.5"
  }
 },
 "nbformat": 4,
 "nbformat_minor": 4
}
